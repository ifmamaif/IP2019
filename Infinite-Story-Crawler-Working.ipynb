{
 "cells": [
  {
   "cell_type": "code",
   "execution_count": 1,
   "metadata": {},
   "outputs": [],
   "source": [
    "import numpy\n",
    "import urllib.request\n",
    "from bs4 import BeautifulSoup\n",
    "import re\n",
    "import requests"
   ]
  },
  {
   "cell_type": "code",
   "execution_count": 2,
   "metadata": {},
   "outputs": [],
   "source": [
    "def soupify(pageHtml, sentenceList):\n",
    "    \"This function parses the page and appends relevant text to sentenceList\"\n",
    "    \n",
    "    parser = \"html.parser\"\n",
    "    soup = BeautifulSoup(pageHtml, parser)\n",
    "    sampleStringsRough = soup.find(\"ul\", class_=\"list-unstyled choices\")\n",
    "\n",
    "    try:\n",
    "        sampleStringsTmp = list(sampleStringsRough.stripped_strings)\n",
    "        for sentence in sampleStringsTmp:\n",
    "            sentenceList.append(sentence)\n",
    "    except AttributeError:\n",
    "        return"
   ]
  },
  {
   "cell_type": "code",
   "execution_count": 3,
   "metadata": {},
   "outputs": [],
   "source": [
    "def getInfiniteStoryLinks(pageHtml):\n",
    "    \"This function gets links to continue crawling\"\n",
    "    \n",
    "    parser = \"html.parser\"\n",
    "    soup = BeautifulSoup(pageHtml, parser)\n",
    "    \n",
    "    \n",
    "    linkList = list()\n",
    "    for ul in soup.find_all('ul', class_='list-unstyled choices'):\n",
    "         for li in ul.find_all('li'):\n",
    "             linkList.append(\"https://infinite-story.com/\" + li.find('a').get('href'))\n",
    "    \n",
    "    \n",
    "    return linkList    "
   ]
  },
  {
   "cell_type": "code",
   "execution_count": 4,
   "metadata": {},
   "outputs": [],
   "source": [
    "def getStoryTest(url, sentenceList):\n",
    "    \"This function gets the http page, feeds it to alex function along with the list and continues\"\n",
    "    page = requests.get(url)\n",
    "    pageHtml = page.text\n",
    "    soupify(pageHtml, sentenceList)\n",
    "    \n",
    "    links = getInfiniteStoryLinks(pageHtml)\n",
    "    for link in links:\n",
    "        getStoryTest(link, sentenceList)"
   ]
  },
  {
   "cell_type": "code",
   "execution_count": 6,
   "metadata": {},
   "outputs": [
    {
     "name": "stdout",
     "output_type": "stream",
     "text": [
      "[]\n"
     ]
    }
   ],
   "source": [
    "sentenceList = list()\n",
    "ourStoryUrl = \"https://infinite-story.com/story/room.php?id=2043\"\n",
    "getStoryTest(ourStoryUrl, sentenceList)\n",
    "sentenceList = list(dict.fromkeys(sentenceList))\n",
    "print(sentenceList)"
   ]
  },
  {
   "cell_type": "code",
   "execution_count": null,
   "metadata": {},
   "outputs": [],
   "source": []
  },
  {
   "cell_type": "code",
   "execution_count": null,
   "metadata": {
    "scrolled": true
   },
   "outputs": [],
   "source": []
  },
  {
   "cell_type": "code",
   "execution_count": null,
   "metadata": {},
   "outputs": [],
   "source": []
  }
 ],
 "metadata": {
  "kernelspec": {
   "display_name": "Python 3",
   "language": "python",
   "name": "python3"
  },
  "language_info": {
   "codemirror_mode": {
    "name": "ipython",
    "version": 3
   },
   "file_extension": ".py",
   "mimetype": "text/x-python",
   "name": "python",
   "nbconvert_exporter": "python",
   "pygments_lexer": "ipython3",
   "version": "3.7.1"
  }
 },
 "nbformat": 4,
 "nbformat_minor": 2
}
